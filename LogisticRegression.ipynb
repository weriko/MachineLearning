{
 "cells": [
  {
   "cell_type": "code",
   "execution_count": 1,
   "id": "75d73901",
   "metadata": {},
   "outputs": [],
   "source": [
    "import matplotlib.pyplot as plt\n",
    "import numpy as np\n",
    "from numpy import log\n",
    "import pandas as pd\n",
    "import random as rd\n",
    "\n",
    "class Regressor:\n",
    "    e = 2.7182818284\n",
    "    def __init__(self , x,y,lr = 0.03,epsilon =0.0000001 ):\n",
    "        self.lr = lr\n",
    "        self.epsilon = epsilon\n",
    "        if isinstance(x, np.ndarray):\n",
    "            self.x = x\n",
    "            self.y = y\n",
    "        else:\n",
    "            self.x = np.array(x)\n",
    "            self.y = np.array(y)\n",
    "        self.n_examples = self.x.shape[0]\n",
    "        self.weights = np.random.rand(self.x.shape[1])\n",
    "        self.b = 0\n",
    "        self.losses = []\n",
    "        \n",
    "            \n",
    "    def plot(self):\n",
    "        plt.scatter(self.x,self.y)\n",
    "        plt.show()\n",
    "    def sigmoid(self,x):\n",
    "        return (1/(1+np.exp(-x)))\n",
    "    def loss(self,y,ypred):\n",
    "        \n",
    "       \n",
    "        return -sum(y*log(ypred+self.epsilon) + (1-y)*log(1-ypred+self.epsilon) )/self.n_examples\n",
    "    def forward(self):\n",
    "      \n",
    "        return self.sigmoid(np.dot(self.x,self.weights)+self.b)\n",
    "    def regress(self,epochs = 10):\n",
    "        \n",
    "        for i in range(epochs):\n",
    "            ypred = self.forward()\n",
    "            self.weights -= self.lr *( np.dot(self.x.T, ypred-self.y)/self.x.shape[0])\n",
    "            self.b -= (self.lr*np.sum(ypred - self.y)/self.x.shape[0])\n",
    "            self.losses.append(self.loss(self.y,ypred))\n",
    "            \n",
    "    def predict(self,x):\n",
    "        return self.sigmoid(np.dot(x,self.weights)+self.b)\n",
    "    def plot_loss(self):\n",
    "        plt.plot(np.arange(0,len(self.losses)),self.losses)\n",
    "        plt.show()\n",
    "\n",
    "        \n",
    "        "
   ]
  },
  {
   "cell_type": "code",
   "execution_count": 6,
   "id": "3d7f1133",
   "metadata": {},
   "outputs": [
    {
     "data": {
      "image/png": "[encoded data removed]",
      "text/plain": [
       "<Figure size 432x288 with 1 Axes>"
      ]
     },
     "metadata": {
      "needs_background": "light"
     },
     "output_type": "display_data"
    },
    {
     "name": "stdout",
     "output_type": "stream",
     "text": [
      "0.7833894500561167\n",
      "Wall time: 1.99 s\n"
     ]
    }
   ],
   "source": [
    "%%time\n",
    "df = pd.read_csv('')\n",
    "\n",
    "x_train = df[[\"Pclass\",\"Sex\",\"Age\",\"Fare\"]].to_numpy()\n",
    "y_train = df[\"Survived\"].to_numpy()\n",
    "logr = Regressor(x_train,y_train,lr=0.003)\n",
    "logr.regress(epochs=20000)\n",
    "logr.plot_loss()\n",
    "print(np.mean(np.array([0 if x<0.5 else 1 for x in logr.predict(x_train)]) ==y_train))\n",
    "            \n",
    "    "
   ]
  },
  {
   "cell_type": "code",
   "execution_count": 3,
   "id": "518b0aef",
   "metadata": {},
   "outputs": [],
   "source": [
    "from sklearn.linear_model import SGDClassifier"
   ]
  },
  {
   "cell_type": "code",
   "execution_count": 23,
   "id": "1d802941",
   "metadata": {},
   "outputs": [
    {
     "name": "stdout",
     "output_type": "stream",
     "text": [
      "0.7149270482603816\n",
      "Wall time: 1.99 ms\n"
     ]
    }
   ],
   "source": [
    "%%time\n",
    "logreg = SGDClassifier(learning_rate=\"constant\",eta0=0.005)\n",
    "logreg.fit(x_train,y_train)\n",
    "print(np.mean(np.array([0 if x<0.5 else 1 for x in logreg.predict(x_train)]) ==y_train))\n"
   ]
  },
  {
   "cell_type": "code",
   "execution_count": null,
   "id": "ba1a1e9e",
   "metadata": {},
   "outputs": [],
   "source": []
  },
  {
   "cell_type": "code",
   "execution_count": null,
   "id": "b88d038c",
   "metadata": {},
   "outputs": [],
   "source": []
  }
 ],
 "metadata": {
  "kernelspec": {
   "display_name": "Python 3",
   "language": "python",
   "name": "python3"
  },
  "language_info": {
   "codemirror_mode": {
    "name": "ipython",
    "version": 3
   },
   "file_extension": ".py",
   "mimetype": "text/x-python",
   "name": "python",
   "nbconvert_exporter": "python",
   "pygments_lexer": "ipython3",
   "version": "3.9.2"
  }
 },
 "nbformat": 4,
 "nbformat_minor": 5
}
